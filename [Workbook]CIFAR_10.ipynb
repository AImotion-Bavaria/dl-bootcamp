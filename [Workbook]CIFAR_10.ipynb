{
  "nbformat": 4,
  "nbformat_minor": 0,
  "metadata": {
    "colab": {
      "name": "[Workbook]CIFAR-10",
      "provenance": [],
      "collapsed_sections": [],
      "authorship_tag": "ABX9TyNAP8T5FufYO1VqebHQ8Q1N",
      "include_colab_link": true
    },
    "kernelspec": {
      "name": "python3",
      "display_name": "Python 3"
    },
    "language_info": {
      "name": "python"
    }
  },
  "cells": [
    {
      "cell_type": "markdown",
      "metadata": {
        "id": "view-in-github",
        "colab_type": "text"
      },
      "source": [
        "<a href=\"https://colab.research.google.com/github/AImotion-Bavaria/dl-bootcamp/blob/main/%5BWorkbook%5DCIFAR_10.ipynb\" target=\"_parent\"><img src=\"https://colab.research.google.com/assets/colab-badge.svg\" alt=\"Open In Colab\"/></a>"
      ]
    },
    {
      "cell_type": "markdown",
      "metadata": {
        "id": "6GWcDRjBRJZz"
      },
      "source": [
        "# CIFAR-10\n",
        "\n",
        "CIFAR-10 is a dataset consisting of 60 000 images in 10 classes (6000 per class). More details can be found on [this link](https://www.cs.toronto.edu/~kriz/cifar.html)"
      ]
    },
    {
      "cell_type": "code",
      "metadata": {
        "id": "XZy17pAFHGU9"
      },
      "source": [
        "a = 15\n",
        "b = 12"
      ],
      "execution_count": null,
      "outputs": []
    },
    {
      "cell_type": "code",
      "metadata": {
        "colab": {
          "base_uri": "https://localhost:8080/"
        },
        "id": "k-4lGVRWzkeq",
        "outputId": "3d79ecac-4df8-49b3-fc1c-459bcdf10690"
      },
      "source": [
        "result = a + b\n",
        "print(result)\n",
        "print(\"Hello Deep Learning Bootcamp!\")"
      ],
      "execution_count": null,
      "outputs": []
    },
    {
      "cell_type": "code",
      "metadata": {
        "colab": {
          "base_uri": "https://localhost:8080/",
          "height": 996
        },
        "id": "cw1D_nmezkvr",
        "outputId": "488b61a7-5aba-4096-b61d-f3bfcf6af5b2"
      },
      "source": [
        "# TODO Code here!\n"
      ],
      "execution_count": null,
      "outputs": []
    }
  ]
}