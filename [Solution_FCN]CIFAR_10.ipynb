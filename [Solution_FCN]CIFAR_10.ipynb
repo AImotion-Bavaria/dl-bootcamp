{
  "nbformat": 4,
  "nbformat_minor": 0,
  "metadata": {
    "colab": {
      "name": " [Solution-FCN]CIFAR-10",
      "provenance": [],
      "authorship_tag": "ABX9TyO1Kxa4MZkbZeYB74msjDrb",
      "include_colab_link": true
    },
    "kernelspec": {
      "name": "python3",
      "display_name": "Python 3"
    },
    "language_info": {
      "name": "python"
    }
  },
  "cells": [
    {
      "cell_type": "markdown",
      "metadata": {
        "id": "view-in-github",
        "colab_type": "text"
      },
      "source": [
        "<a href=\"https://colab.research.google.com/github/AImotion-Bavaria/dl-bootcamp/blob/main/%5BSolution_FCN%5DCIFAR_10.ipynb\" target=\"_parent\"><img src=\"https://colab.research.google.com/assets/colab-badge.svg\" alt=\"Open In Colab\"/></a>"
      ]
    },
    {
      "cell_type": "markdown",
      "metadata": {
        "id": "6GWcDRjBRJZz"
      },
      "source": [
        "# CIFAR-10\n",
        "\n",
        "CIFAR-10 is a dataset consisting of 60 000 images in 10 classes (6000 per class). More details can be found on [this link](https://www.cs.toronto.edu/~kriz/cifar.html)"
      ]
    },
    {
      "cell_type": "code",
      "metadata": {
        "id": "XZy17pAFHGU9",
        "colab": {
          "base_uri": "https://localhost:8080/"
        },
        "outputId": "ba746840-eb0e-4502-a472-a9cb48c43e40"
      },
      "source": [
        "from tensorflow import keras\n",
        "from tensorflow.keras import layers\n",
        "\n",
        "\n",
        "model = keras.Sequential([\n",
        "                          \n",
        "            keras.Input(shape=(32, 32, 3)),\n",
        "            layers.Flatten(),\n",
        "            layers.Dense(1024, activation=\"relu\"),\n",
        "            layers.Dense(256, activation=\"relu\"),\n",
        "            layers.Dense(128, activation=\"relu\"),\n",
        "            layers.Dense(64, activation=\"relu\"),\n",
        "            layers.Dense(10, activation=\"sigmoid\"),\n",
        "\n",
        "        ]\n",
        "    )\n",
        "\n",
        "model.summary()\n",
        "model.compile(optimizer=\"adam\", loss=\"sparse_categorical_crossentropy\", metrics=[\"accuracy\"])\n",
        "\n",
        "(x_train, y_train), (x_test, y_test) = keras.datasets.cifar10.load_data()\n",
        "\n",
        "model.fit(x_train, y_train, epochs=10, batch_size=32)\n",
        "print(\"--------------------------------\")\n",
        "model.evaluate(x_test, y_test)"
      ],
      "execution_count": 1,
      "outputs": [
        {
          "output_type": "stream",
          "text": [
            "WARNING:tensorflow:Please add `keras.layers.InputLayer` instead of `keras.Input` to Sequential model. `keras.Input` is intended to be used by Functional model.\n",
            "Model: \"sequential\"\n",
            "_________________________________________________________________\n",
            "Layer (type)                 Output Shape              Param #   \n",
            "=================================================================\n",
            "flatten (Flatten)            (None, 3072)              0         \n",
            "_________________________________________________________________\n",
            "dense (Dense)                (None, 1024)              3146752   \n",
            "_________________________________________________________________\n",
            "dense_1 (Dense)              (None, 256)               262400    \n",
            "_________________________________________________________________\n",
            "dense_2 (Dense)              (None, 128)               32896     \n",
            "_________________________________________________________________\n",
            "dense_3 (Dense)              (None, 64)                8256      \n",
            "_________________________________________________________________\n",
            "dense_4 (Dense)              (None, 10)                650       \n",
            "=================================================================\n",
            "Total params: 3,450,954\n",
            "Trainable params: 3,450,954\n",
            "Non-trainable params: 0\n",
            "_________________________________________________________________\n",
            "Downloading data from https://www.cs.toronto.edu/~kriz/cifar-10-python.tar.gz\n",
            "170500096/170498071 [==============================] - 3s 0us/step\n",
            "Epoch 1/10\n",
            "1563/1563 [==============================] - 44s 27ms/step - loss: 13.8886 - accuracy: 0.2376\n",
            "Epoch 2/10\n",
            "1563/1563 [==============================] - 43s 27ms/step - loss: 1.9764 - accuracy: 0.3075\n",
            "Epoch 3/10\n",
            "1563/1563 [==============================] - 42s 27ms/step - loss: 1.8815 - accuracy: 0.3280\n",
            "Epoch 4/10\n",
            "1563/1563 [==============================] - 42s 27ms/step - loss: 1.8298 - accuracy: 0.3439\n",
            "Epoch 5/10\n",
            "1563/1563 [==============================] - 42s 27ms/step - loss: 1.7883 - accuracy: 0.3610\n",
            "Epoch 6/10\n",
            "1563/1563 [==============================] - 43s 27ms/step - loss: 1.7610 - accuracy: 0.3687\n",
            "Epoch 7/10\n",
            "1563/1563 [==============================] - 43s 27ms/step - loss: 1.7307 - accuracy: 0.3777\n",
            "Epoch 8/10\n",
            "1563/1563 [==============================] - 43s 27ms/step - loss: 1.7182 - accuracy: 0.3849\n",
            "Epoch 9/10\n",
            "1563/1563 [==============================] - 43s 27ms/step - loss: 1.6828 - accuracy: 0.3999\n",
            "Epoch 10/10\n",
            "1563/1563 [==============================] - 42s 27ms/step - loss: 1.6632 - accuracy: 0.4028\n",
            "--------------------------------\n",
            "313/313 [==============================] - 3s 8ms/step - loss: 1.6517 - accuracy: 0.4022\n"
          ],
          "name": "stdout"
        },
        {
          "output_type": "execute_result",
          "data": {
            "text/plain": [
              "[1.6516960859298706, 0.40220001339912415]"
            ]
          },
          "metadata": {
            "tags": []
          },
          "execution_count": 1
        }
      ]
    }
  ]
}