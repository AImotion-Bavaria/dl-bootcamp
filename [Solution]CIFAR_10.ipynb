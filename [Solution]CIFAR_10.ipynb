{
  "nbformat": 4,
  "nbformat_minor": 0,
  "metadata": {
    "colab": {
      "name": "[Solution]CIFAR-10",
      "provenance": [],
      "authorship_tag": "ABX9TyOYTeBGHDgLG/kzVNqyzhqE",
      "include_colab_link": true
    },
    "kernelspec": {
      "name": "python3",
      "display_name": "Python 3"
    },
    "language_info": {
      "name": "python"
    }
  },
  "cells": [
    {
      "cell_type": "markdown",
      "metadata": {
        "id": "view-in-github",
        "colab_type": "text"
      },
      "source": [
        "<a href=\"https://colab.research.google.com/github/AImotion-Bavaria/dl-bootcamp/blob/main/%5BSolution%5DCIFAR_10.ipynb\" target=\"_parent\"><img src=\"https://colab.research.google.com/assets/colab-badge.svg\" alt=\"Open In Colab\"/></a>"
      ]
    },
    {
      "cell_type": "markdown",
      "metadata": {
        "id": "6GWcDRjBRJZz"
      },
      "source": [
        "# CIFAR-10\n",
        "\n",
        "CIFAR-10 is a dataset consisting of 60 000 images in 10 classes (6000 per class). More details can be found on [this link](https://www.cs.toronto.edu/~kriz/cifar.html)"
      ]
    },
    {
      "cell_type": "code",
      "metadata": {
        "id": "XZy17pAFHGU9"
      },
      "source": [
        "from tensorflow import keras\n",
        "from tensorflow.keras import layers\n",
        "\n",
        "\n",
        "model = keras.Sequential([\n",
        "                          \n",
        "            keras.Input(shape=(32, 32, 3)),\n",
        "            layers.Conv2D(6, kernel_size=(3, 3), activation=\"relu\"),\n",
        "            layers.MaxPooling2D(pool_size=(2,2)),\n",
        "            layers.Conv2D(16, kernel_size=(5, 5), activation=\"relu\"),\n",
        "            layers.MaxPooling2D(pool_size=(2,2)),\n",
        "            layers.Flatten(),\n",
        "\n",
        "            layers.Dense(120, activation=\"relu\"),\n",
        "            layers.Dense(64, activation=\"relu\"),\n",
        "            layers.Dense(10, activation=\"softmax\"),\n",
        "\n",
        "        ]\n",
        "    )\n",
        "\n",
        "model.summary()\n",
        "model.compile(optimizer=\"adam\", loss=\"sparse_categorical_crossentropy\", metrics=[\"accuracy\"])\n",
        "\n",
        "(x_train, y_train), (x_test, y_test) = keras.datasets.cifar10.load_data()\n",
        "\n",
        "model.fit(x_train, y_train, epochs=10, batch_size=32)\n",
        "print(\"--------------------------------\")\n",
        "model.evaluate(x_test, y_test)"
      ],
      "execution_count": null,
      "outputs": []
    }
  ]
}